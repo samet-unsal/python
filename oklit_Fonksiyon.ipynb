{
  "nbformat": 4,
  "nbformat_minor": 0,
  "metadata": {
    "colab": {
      "provenance": []
    },
    "kernelspec": {
      "name": "python3",
      "display_name": "Python 3"
    },
    "language_info": {
      "name": "python"
    }
  },
  "cells": [
    {
      "cell_type": "code",
      "execution_count": 34,
      "metadata": {
        "id": "lMf15OPzPWtF"
      },
      "outputs": [],
      "source": [
        "import math"
      ]
    },
    {
      "cell_type": "code",
      "source": [
        "points = [(3, 5), (2, 7), (1, 4), (9, 6)]"
      ],
      "metadata": {
        "id": "oVgA8AD7e70r"
      },
      "execution_count": 39,
      "outputs": []
    },
    {
      "cell_type": "code",
      "source": [
        "def euclideanDistance(nokta1, nokta2):\n",
        "    return math.sqrt((nokta2[0] - nokta1[0])**2 + (nokta2[1] - nokta1[1])**2)"
      ],
      "metadata": {
        "id": "LsTOzTRCfzmJ"
      },
      "execution_count": 40,
      "outputs": []
    },
    {
      "cell_type": "code",
      "source": [
        "distances = []"
      ],
      "metadata": {
        "id": "ARzGNUsVf2UK"
      },
      "execution_count": 42,
      "outputs": []
    },
    {
      "cell_type": "code",
      "source": [
        "for i in range(len(points)):\n",
        "    for j in range(i + 1, len(points)):\n",
        "        distance = euclideanDistance(points[i], points[j])\n",
        "        distances.append(distance)"
      ],
      "metadata": {
        "id": "684CqFA7f3vP"
      },
      "execution_count": 43,
      "outputs": []
    },
    {
      "cell_type": "code",
      "source": [
        "min_distance = min(distances)\n",
        "print(\"En küçük mesafe:\", min_distance)"
      ],
      "metadata": {
        "colab": {
          "base_uri": "https://localhost:8080/"
        },
        "id": "rCpWvUU8f5_N",
        "outputId": "4c099f1e-1590-4d37-f9fe-b6e3f111c6f4"
      },
      "execution_count": 44,
      "outputs": [
        {
          "output_type": "stream",
          "name": "stdout",
          "text": [
            "En küçük mesafe: 2.23606797749979\n"
          ]
        }
      ]
    }
  ]
}